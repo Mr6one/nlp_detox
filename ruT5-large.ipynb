{
  "cells": [
    {
      "cell_type": "code",
      "execution_count": null,
      "metadata": {
        "id": "p_rtYnawGlGN",
        "outputId": "9b5a68c2-ed54-4eba-8a3b-0bc266f365d7"
      },
      "outputs": [
        {
          "name": "stdout",
          "output_type": "stream",
          "text": [
            "/mnt/storage/fadeev\n"
          ]
        }
      ],
      "source": [
        "# !pwd\n",
        "# torch.cuda.is_available()"
      ]
    },
    {
      "cell_type": "code",
      "execution_count": null,
      "metadata": {
        "id": "lmmNZDvsGlGP",
        "outputId": "0c9a470f-4722-453b-935c-30359c84dbcb"
      },
      "outputs": [
        {
          "name": "stdout",
          "output_type": "stream",
          "text": [
            "Requirement already satisfied: nltk in ./myenv/lib/python3.10/site-packages (3.8.1)\n",
            "Requirement already satisfied: click in ./myenv/lib/python3.10/site-packages (from nltk) (8.1.3)\n",
            "Requirement already satisfied: joblib in ./myenv/lib/python3.10/site-packages (from nltk) (1.2.0)\n",
            "Requirement already satisfied: tqdm in ./myenv/lib/python3.10/site-packages (from nltk) (4.65.0)\n",
            "Requirement already satisfied: regex>=2021.8.3 in ./myenv/lib/python3.10/site-packages (from nltk) (2023.5.5)\n",
            "Note: you may need to restart the kernel to use updated packages.\n"
          ]
        }
      ],
      "source": [
        "%pip install nltk"
      ]
    },
    {
      "cell_type": "code",
      "execution_count": null,
      "metadata": {
        "id": "XRY34EW8GlGO",
        "outputId": "888ee06a-5141-4bb6-bb3e-0e60d4da91f8"
      },
      "outputs": [
        {
          "name": "stdout",
          "output_type": "stream",
          "text": [
            "Requirement already satisfied: tqdm in ./myenv/lib/python3.10/site-packages (4.65.0)\n",
            "Note: you may need to restart the kernel to use updated packages.\n"
          ]
        }
      ],
      "source": [
        "%pip install tqdm"
      ]
    },
    {
      "cell_type": "code",
      "execution_count": null,
      "metadata": {
        "id": "4Ee-plaxGlGN",
        "outputId": "a14afef2-d637-4d97-8bdc-6a1b236a806b"
      },
      "outputs": [
        {
          "name": "stdout",
          "output_type": "stream",
          "text": [
            "Requirement already satisfied: transformers in ./myenv/lib/python3.10/site-packages (4.29.2)\n",
            "Requirement already satisfied: pyyaml>=5.1 in ./myenv/lib/python3.10/site-packages (from transformers) (6.0)\n",
            "Requirement already satisfied: regex!=2019.12.17 in ./myenv/lib/python3.10/site-packages (from transformers) (2023.5.5)\n",
            "Requirement already satisfied: filelock in ./myenv/lib/python3.10/site-packages (from transformers) (3.9.0)\n",
            "Requirement already satisfied: tqdm>=4.27 in ./myenv/lib/python3.10/site-packages (from transformers) (4.65.0)\n",
            "Requirement already satisfied: numpy>=1.17 in ./myenv/lib/python3.10/site-packages (from transformers) (1.24.1)\n",
            "Requirement already satisfied: packaging>=20.0 in ./myenv/lib/python3.10/site-packages (from transformers) (23.1)\n",
            "Requirement already satisfied: requests in ./myenv/lib/python3.10/site-packages (from transformers) (2.28.1)\n",
            "Requirement already satisfied: huggingface-hub<1.0,>=0.14.1 in ./myenv/lib/python3.10/site-packages (from transformers) (0.14.1)\n",
            "Requirement already satisfied: tokenizers!=0.11.3,<0.14,>=0.11.1 in ./myenv/lib/python3.10/site-packages (from transformers) (0.13.3)\n",
            "Requirement already satisfied: fsspec in ./myenv/lib/python3.10/site-packages (from huggingface-hub<1.0,>=0.14.1->transformers) (2023.5.0)\n",
            "Requirement already satisfied: typing-extensions>=3.7.4.3 in ./myenv/lib/python3.10/site-packages (from huggingface-hub<1.0,>=0.14.1->transformers) (4.4.0)\n",
            "Requirement already satisfied: certifi>=2017.4.17 in ./myenv/lib/python3.10/site-packages (from requests->transformers) (2022.12.7)\n",
            "Requirement already satisfied: idna<4,>=2.5 in ./myenv/lib/python3.10/site-packages (from requests->transformers) (3.4)\n",
            "Requirement already satisfied: urllib3<1.27,>=1.21.1 in ./myenv/lib/python3.10/site-packages (from requests->transformers) (1.26.13)\n",
            "Requirement already satisfied: charset-normalizer<3,>=2 in ./myenv/lib/python3.10/site-packages (from requests->transformers) (2.1.1)\n",
            "Note: you may need to restart the kernel to use updated packages.\n"
          ]
        }
      ],
      "source": [
        "%pip install transformers"
      ]
    },
    {
      "cell_type": "code",
      "execution_count": null,
      "metadata": {
        "id": "n3YeN26MGlGN"
      },
      "outputs": [],
      "source": [
        "import os"
      ]
    },
    {
      "cell_type": "code",
      "execution_count": null,
      "metadata": {
        "id": "gZiKOmQVGlGN"
      },
      "outputs": [],
      "source": [
        "os.environ['CUDA_VISIBLE_DEVICES'] = '0'"
      ]
    },
    {
      "cell_type": "code",
      "execution_count": null,
      "metadata": {
        "id": "eLzrEiKCGlGN"
      },
      "outputs": [],
      "source": [
        "import torch\n",
        "import numpy as np\n",
        "import pandas as pd\n",
        "import matplotlib.pyplot as plt"
      ]
    },
    {
      "cell_type": "code",
      "execution_count": null,
      "metadata": {
        "id": "_qANpyZ-GlGS",
        "outputId": "1cf16781-fb4f-45f1-d3a1-aac21de272a3"
      },
      "outputs": [
        {
          "name": "stdout",
          "output_type": "stream",
          "text": [
            "Requirement already satisfied: sentencepiece in ./myenv/lib/python3.10/site-packages (0.1.99)\n"
          ]
        }
      ],
      "source": [
        "!pip install sentencepiece"
      ]
    },
    {
      "cell_type": "code",
      "execution_count": null,
      "metadata": {
        "id": "Yi8ewYPxGlGO",
        "outputId": "6cbc8ca4-36e2-42b4-acbb-898cd0dbca09"
      },
      "outputs": [
        {
          "name": "stderr",
          "output_type": "stream",
          "text": [
            "/mnt/storage/fadeev/myenv/lib/python3.10/site-packages/tqdm/auto.py:21: TqdmWarning: IProgress not found. Please update jupyter and ipywidgets. See https://ipywidgets.readthedocs.io/en/stable/user_install.html\n",
            "  from .autonotebook import tqdm as notebook_tqdm\n"
          ]
        }
      ],
      "source": [
        "from tqdm.auto import tqdm, trange"
      ]
    },
    {
      "cell_type": "code",
      "execution_count": null,
      "metadata": {
        "id": "M_97q9A8GlGO"
      },
      "outputs": [],
      "source": [
        "from transformers import T5ForConditionalGeneration, AutoTokenizer, AutoModelForCausalLM"
      ]
    },
    {
      "cell_type": "code",
      "execution_count": null,
      "metadata": {
        "id": "nHCgsMhvGlGP"
      },
      "outputs": [],
      "source": [
        "import gc"
      ]
    },
    {
      "cell_type": "code",
      "execution_count": null,
      "metadata": {
        "id": "WQJ-2mr_GlGR",
        "outputId": "79790bf9-d980-4707-88cd-cc4e03cd6929"
      },
      "outputs": [
        {
          "name": "stdout",
          "output_type": "stream",
          "text": [
            "fatal: destination path 'russe_detox_2022' already exists and is not an empty directory.\n"
          ]
        }
      ],
      "source": [
        "!git clone https://github.com/s-nlp/russe_detox_2022"
      ]
    },
    {
      "cell_type": "code",
      "execution_count": null,
      "metadata": {
        "id": "G25iLMlQGlGS"
      },
      "outputs": [],
      "source": [
        "df_dev = pd.read_csv('/mnt/storage/fadeev/russe_detox_2022/data/input/dev.tsv', sep='\\t')\n",
        "toxic_inputs_dev = df_dev['toxic_comment'].tolist()"
      ]
    },
    {
      "cell_type": "markdown",
      "source": [
        "# ruT5-large"
      ],
      "metadata": {
        "id": "ml3vsEZ8JdRo"
      }
    },
    {
      "cell_type": "code",
      "execution_count": null,
      "metadata": {
        "id": "UDkLM6NdGlGS",
        "outputId": "e1fccb24-e915-4b57-8065-c646ac7a3c1f"
      },
      "outputs": [
        {
          "name": "stdout",
          "output_type": "stream",
          "text": [
            "Requirement already satisfied: grpcio==1.50.0 in ./myenv/lib/python3.10/site-packages (1.50.0)\n",
            "Requirement already satisfied: six>=1.5.2 in ./myenv/lib/python3.10/site-packages (from grpcio==1.50.0) (1.16.0)\n",
            "Note: you may need to restart the kernel to use updated packages.\n",
            "Requirement already satisfied: grpcio-tools==1.50.0 in ./myenv/lib/python3.10/site-packages (1.50.0)\n",
            "Requirement already satisfied: grpcio>=1.50.0 in ./myenv/lib/python3.10/site-packages (from grpcio-tools==1.50.0) (1.50.0)\n",
            "Collecting protobuf<5.0dev,>=4.21.6\n",
            "  Using cached protobuf-4.23.1-cp37-abi3-manylinux2014_x86_64.whl (304 kB)\n",
            "Requirement already satisfied: setuptools in ./myenv/lib/python3.10/site-packages (from grpcio-tools==1.50.0) (59.6.0)\n",
            "Requirement already satisfied: six>=1.5.2 in ./myenv/lib/python3.10/site-packages (from grpcio>=1.50.0->grpcio-tools==1.50.0) (1.16.0)\n",
            "Installing collected packages: protobuf\n",
            "  Attempting uninstall: protobuf\n",
            "    Found existing installation: protobuf 3.20.0\n",
            "    Uninstalling protobuf-3.20.0:\n",
            "      Successfully uninstalled protobuf-3.20.0\n",
            "Successfully installed protobuf-4.23.1\n",
            "Note: you may need to restart the kernel to use updated packages.\n",
            "Collecting protobuf==3.20\n",
            "  Using cached protobuf-3.20.0-cp310-cp310-manylinux_2_12_x86_64.manylinux2010_x86_64.whl (1.1 MB)\n",
            "Installing collected packages: protobuf\n",
            "  Attempting uninstall: protobuf\n",
            "    Found existing installation: protobuf 4.23.1\n",
            "    Uninstalling protobuf-4.23.1:\n",
            "      Successfully uninstalled protobuf-4.23.1\n",
            "\u001b[31mERROR: pip's dependency resolver does not currently take into account all the packages that are installed. This behaviour is the source of the following dependency conflicts.\n",
            "grpcio-tools 1.50.0 requires protobuf<5.0dev,>=4.21.6, but you have protobuf 3.20.0 which is incompatible.\u001b[0m\u001b[31m\n",
            "\u001b[0mSuccessfully installed protobuf-3.20.0\n",
            "Note: you may need to restart the kernel to use updated packages.\n"
          ]
        }
      ],
      "source": [
        "%pip install grpcio==1.50.0\n",
        "%pip install grpcio-tools==1.50.0\n",
        "%pip install protobuf==3.20"
      ]
    },
    {
      "cell_type": "code",
      "execution_count": null,
      "metadata": {
        "id": "SSzOHiBEGlGS"
      },
      "outputs": [],
      "source": [
        "import sentencepiece"
      ]
    },
    {
      "cell_type": "code",
      "execution_count": null,
      "metadata": {
        "id": "9r5mvnOHGlGS"
      },
      "outputs": [],
      "source": [
        "model_name = 'sberbank-ai/ruT5-large'"
      ]
    },
    {
      "cell_type": "code",
      "execution_count": null,
      "metadata": {
        "id": "p3lmuQA9GlGT"
      },
      "outputs": [],
      "source": [
        "tokenizer = AutoTokenizer.from_pretrained('sberbank-ai/ruT5-large')\n",
        "model = T5ForConditionalGeneration.from_pretrained('sberbank-ai/ruT5-large')"
      ]
    },
    {
      "cell_type": "code",
      "execution_count": null,
      "metadata": {
        "id": "lKNLbI2WGlGT"
      },
      "outputs": [],
      "source": [
        "model.cuda();"
      ]
    },
    {
      "cell_type": "code",
      "execution_count": null,
      "metadata": {
        "id": "ZZATBzzBGlGT"
      },
      "outputs": [],
      "source": [
        "def paraphrase(text, model, n=None, max_length='auto', temperature=0.0, beams=3):\n",
        "    inputs = tokenizer(text, return_tensors='pt', padding=True)['input_ids'].to(model.device)\n",
        "    if max_length == 'auto':\n",
        "        max_length = int(inputs.shape[1] * 1.2) + 10\n",
        "    result = model.generate(\n",
        "        inputs, \n",
        "        num_return_sequences=n or 1, \n",
        "        do_sample=False, \n",
        "        temperature=temperature, \n",
        "        repetition_penalty=3.0, \n",
        "        max_length=max_length,\n",
        "        bad_words_ids=[[2]],  # unk\n",
        "        num_beams=beams,\n",
        "    )\n",
        "    text = [tokenizer.decode(r, skip_special_tokens=True) for r in result]\n",
        "    return text"
      ]
    },
    {
      "cell_type": "code",
      "execution_count": null,
      "metadata": {
        "id": "MOnXzxxSGlGU",
        "outputId": "ec5666db-871f-40c2-d315-520263eff82c"
      },
      "outputs": [
        {
          "name": "stdout",
          "output_type": "stream",
          "text": [
            "[')))))))))))))))))))))))))))))))))))))))))))))))))))))))))))))))))))))))))))))))))']\n"
          ]
        }
      ],
      "source": [
        "print(paraphrase('Дмитрий вы ебанулись? Уже все выложено', model, temperature=50.0, beams=10))"
      ]
    }
  ],
  "metadata": {
    "kernelspec": {
      "display_name": "myenv",
      "language": "python",
      "name": "python3"
    },
    "language_info": {
      "codemirror_mode": {
        "name": "ipython",
        "version": 3
      },
      "file_extension": ".py",
      "mimetype": "text/x-python",
      "name": "python",
      "nbconvert_exporter": "python",
      "pygments_lexer": "ipython3",
      "version": "3.10.6"
    },
    "orig_nbformat": 4,
    "colab": {
      "provenance": []
    }
  },
  "nbformat": 4,
  "nbformat_minor": 0
}